{
 "cells": [
  {
   "cell_type": "code",
   "execution_count": 15,
   "metadata": {},
   "outputs": [
    {
     "name": "stdout",
     "output_type": "stream",
     "text": [
      "The binary representation is: 11000.01011100011010100111\n"
     ]
    }
   ],
   "source": [
    "def decimal_to_binary(integer_part, fractional_part, precision=20):\n",
    "    \"\"\"\n",
    "    Convert a decimal number to binary representation.\n",
    "    \n",
    "    :param integer_part: The integer part of the decimal number.\n",
    "    :param fractional_part: The fractional part of the decimal number.\n",
    "    :param precision: Number of binary digits to use for the fractional part.\n",
    "    :return: A string representing the binary number.\n",
    "    \"\"\"\n",
    "    # Convert the integer part to binary\n",
    "    binary_integer_part = bin(integer_part).replace('0b', '')\n",
    "    \n",
    "    # Convert the fractional part to binary\n",
    "    binary_fractional_part = []\n",
    "    while fractional_part and len(binary_fractional_part) < precision:\n",
    "        fractional_part *= 2\n",
    "        bit = int(fractional_part)\n",
    "        if bit == 1:\n",
    "            fractional_part -= bit\n",
    "            binary_fractional_part.append('1')\n",
    "        else:\n",
    "            binary_fractional_part.append('0')\n",
    "    \n",
    "    # Combine the integer and fractional parts\n",
    "    if binary_fractional_part:\n",
    "        return f\"{binary_integer_part}.\" + ''.join(binary_fractional_part)\n",
    "    else:\n",
    "        return binary_integer_part\n",
    "\n",
    "\n",
    "# Input: decimal number\n",
    "decimal_number = input(\"Enter a decimal number (e.g., 10.75): \")\n",
    "    \n",
    "    # Separate integer and fractional parts\n",
    "if '.' in decimal_number:\n",
    "    integer_part, fractional_part = decimal_number.split('.')\n",
    "    integer_part = int(integer_part)\n",
    "    fractional_part = float('0.' + fractional_part)\n",
    "else:\n",
    "    integer_part = int(decimal_number)\n",
    "    fractional_part = 0.0\n",
    "    \n",
    "    # Convert to binary\n",
    "binary_number = decimal_to_binary(integer_part, fractional_part)\n",
    "print(f\"The binary representation is: {binary_number}\")\n",
    "\n",
    "\n",
    "\n"
   ]
  },
  {
   "cell_type": "code",
   "execution_count": 18,
   "metadata": {},
   "outputs": [
    {
     "data": {
      "text/plain": [
       "0.125"
      ]
     },
     "execution_count": 18,
     "metadata": {},
     "output_type": "execute_result"
    }
   ],
   "source": [
    "import math\n",
    "pow(2,-3)"
   ]
  }
 ],
 "metadata": {
  "kernelspec": {
   "display_name": ".venv",
   "language": "python",
   "name": "python3"
  },
  "language_info": {
   "codemirror_mode": {
    "name": "ipython",
    "version": 3
   },
   "file_extension": ".py",
   "mimetype": "text/x-python",
   "name": "python",
   "nbconvert_exporter": "python",
   "pygments_lexer": "ipython3",
   "version": "3.10.11"
  }
 },
 "nbformat": 4,
 "nbformat_minor": 2
}
